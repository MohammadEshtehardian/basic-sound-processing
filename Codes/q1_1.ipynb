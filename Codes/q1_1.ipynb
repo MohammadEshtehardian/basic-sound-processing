{
 "cells": [
  {
   "cell_type": "markdown",
   "metadata": {},
   "source": [
    "# filtering noisy.wav"
   ]
  },
  {
   "cell_type": "code",
   "execution_count": 2,
   "metadata": {},
   "outputs": [],
   "source": [
    "#importing libraries\n",
    "import sounddevice as sd\n",
    "from scipy.io import wavfile\n",
    "from scipy.signal import butter, lfilter\n",
    "import numpy as np\n",
    "import matplotlib.pyplot as plt\n",
    "\n",
    "\n",
    "#reading noisy.wav\n",
    "fs, data = wavfile.read('musics/noisy.wav')\n",
    "\n",
    "#creating bandpass filter\n",
    "def butter_bandpass(lowcut, highcut, fs, order=5):\n",
    "    nyq = 0.5*fs\n",
    "    low = lowcut / nyq\n",
    "    high = highcut / nyq\n",
    "    b, a = butter(order, [low, high], btype='band')\n",
    "    return b, a\n",
    "\n",
    "\n",
    "def butter_bandpass_filter(data, lowcut, highcut, fs, order=5):\n",
    "    b, a = butter_bandpass(lowcut, highcut, fs, order=order)\n",
    "    y = lfilter(b, a, data)\n",
    "    return np.array(y, dtype='int16')\n",
    "\n",
    "lowcut = 600\n",
    "highcut = 1100\n",
    "\n",
    "\n",
    "new_data = butter_bandpass_filter(data, lowcut, highcut, fs)\n",
    "\n",
    "#playing original sound\n",
    "sd.play(data[:20000], fs)\n",
    "sd.wait()\n",
    "\n",
    "#playing new sound\n",
    "sd.play(new_data[:20000], fs)\n",
    "sd.wait()\n",
    "\n",
    "#saving new sound\n",
    "wavfile.write('musics/noise_reducted.wav', fs, new_data)"
   ]
  }
 ],
 "metadata": {
  "kernelspec": {
   "display_name": "Python 3",
   "language": "python",
   "name": "python3"
  },
  "language_info": {
   "codemirror_mode": {
    "name": "ipython",
    "version": 3
   },
   "file_extension": ".py",
   "mimetype": "text/x-python",
   "name": "python",
   "nbconvert_exporter": "python",
   "pygments_lexer": "ipython3",
   "version": "3.8.5"
  }
 },
 "nbformat": 4,
 "nbformat_minor": 4
}

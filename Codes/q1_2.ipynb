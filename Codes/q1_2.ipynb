{
 "cells": [
  {
   "cell_type": "markdown",
   "metadata": {},
   "source": [
    "# decoding\n",
    "## code: درس سیگنال 3 واحده"
   ]
  },
  {
   "cell_type": "code",
   "execution_count": 3,
   "metadata": {},
   "outputs": [],
   "source": [
    "#importing libraries\n",
    "import sounddevice as sd\n",
    "from scipy.io import wavfile\n",
    "from scipy.signal import butter, lfilter, freqz\n",
    "import matplotlib.pyplot as plt\n",
    "import numpy as np\n",
    "\n",
    "#reading noisy.wav\n",
    "fs, data = wavfile.read('musics/encrypted.wav')\n",
    "\n",
    "#fliping noisy.wav\n",
    "new_data = np.zeros(len(data))\n",
    "for i in range(len(data)):\n",
    "    new_data[i] = data[len(data)-1-i]\n",
    "\n",
    "#creating lowpass filter\n",
    "def butter_lowpass(cut, fs, order=5):\n",
    "    nyq = 0.5*fs\n",
    "    cut = cut / nyq\n",
    "    b, a = butter(order, cut, btype='low')\n",
    "    return b, a\n",
    "\n",
    "\n",
    "def butter_lowpass_filter(data, cut, fs, order=5):\n",
    "    b, a = butter_lowpass(cut, fs, order=order)\n",
    "    y = lfilter(b, a, data)\n",
    "    return np.array(y, dtype='int16')\n",
    "\n",
    "\n",
    "#filtering with butterworth lowpass filter\n",
    "new_data = butter_lowpass_filter(new_data, 100, fs, order=2)\n",
    "\n",
    "#playing decrypted data\n",
    "sd.play(new_data, fs)\n",
    "sd.wait()\n",
    "\n",
    "#saving decrypted data\n",
    "wavfile.write('musics/decrypted.wav', fs, new_data)"
   ]
  }
 ],
 "metadata": {
  "kernelspec": {
   "display_name": "Python 3",
   "language": "python",
   "name": "python3"
  },
  "language_info": {
   "codemirror_mode": {
    "name": "ipython",
    "version": 3
   },
   "file_extension": ".py",
   "mimetype": "text/x-python",
   "name": "python",
   "nbconvert_exporter": "python",
   "pygments_lexer": "ipython3",
   "version": "3.8.5"
  }
 },
 "nbformat": 4,
 "nbformat_minor": 4
}

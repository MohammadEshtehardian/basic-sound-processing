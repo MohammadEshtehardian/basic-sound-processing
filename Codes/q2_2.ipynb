{
 "cells": [
  {
   "cell_type": "markdown",
   "metadata": {},
   "source": [
    "# import libraries"
   ]
  },
  {
   "cell_type": "code",
   "execution_count": 1,
   "metadata": {},
   "outputs": [],
   "source": [
    "import numpy as np\n",
    "import sounddevice as sd\n",
    "import wave, struct\n",
    "from scipy.io import wavfile"
   ]
  },
  {
   "cell_type": "markdown",
   "metadata": {},
   "source": [
    "# read input data"
   ]
  },
  {
   "cell_type": "code",
   "execution_count": 2,
   "metadata": {},
   "outputs": [],
   "source": [
    "sampleRate, data = wavfile.read('musics/3D_before.wav')\n",
    "data = data[:,1] + data[:,0]"
   ]
  },
  {
   "cell_type": "markdown",
   "metadata": {},
   "source": [
    "# write output file"
   ]
  },
  {
   "cell_type": "code",
   "execution_count": 3,
   "metadata": {},
   "outputs": [],
   "source": [
    "#open output file\n",
    "waveout = wave.open('musics/3D_moving.wav', 'w')\n",
    "\n",
    "#set number of channels\n",
    "waveout.setnchannels(2)\n",
    "waveout.setsampwidth(2)\n",
    "\n",
    "#set sample rate\n",
    "waveout.setframerate(sampleRate)\n",
    "\n",
    "#write output file in a for loop\n",
    "for i in range(data.size):\n",
    "    \n",
    "    #set the value of data in right and left \n",
    "    vl = data[i] * np.sin(np.pi * i / sampleRate)\n",
    "    vr = data[i] * np.cos(np.pi * i / sampleRate)\n",
    "    \n",
    "    #write data in the output file\n",
    "    new_data = struct.pack(\"<h\", int(vl))\n",
    "    waveout.writeframesraw(new_data)\n",
    "    \n",
    "    new_data = struct.pack(\"<h\", int(vr))\n",
    "    waveout.writeframesraw(new_data)\n",
    "\n",
    "#close the output file\n",
    "waveout.close()\n",
    "\n",
    "#playing output audio\n",
    "fs, output = wavfile.read('musics/3D_moving.wav')\n",
    "sd.play(output, fs)\n",
    "sd.wait()"
   ]
  }
 ],
 "metadata": {
  "kernelspec": {
   "display_name": "Python 3",
   "language": "python",
   "name": "python3"
  },
  "language_info": {
   "codemirror_mode": {
    "name": "ipython",
    "version": 3
   },
   "file_extension": ".py",
   "mimetype": "text/x-python",
   "name": "python",
   "nbconvert_exporter": "python",
   "pygments_lexer": "ipython3",
   "version": "3.8.5"
  }
 },
 "nbformat": 4,
 "nbformat_minor": 4
}

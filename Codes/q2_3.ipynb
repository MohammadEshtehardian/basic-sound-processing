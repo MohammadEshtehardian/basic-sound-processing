{
 "cells": [
  {
   "cell_type": "markdown",
   "metadata": {},
   "source": [
    "# importing libraries\n",
    "<div dir='rtl'>\n",
    "    برای انجام این بخش زمانی که مکالمه توسط طرف اول انجام شده است صدا از گوش راست، زمانی که مکالمه توسط طرف دوم انجام شده است صدا از گوش چپ و زمانی هیچ کدام صحبت نمی کنند صدا به صورت خطی بین دو گوش تغییر می کند.\n",
    "</div>"
   ]
  },
  {
   "cell_type": "code",
   "execution_count": 1,
   "metadata": {},
   "outputs": [],
   "source": [
    "import numpy as np\n",
    "import sounddevice as sd\n",
    "import wave, struct\n",
    "from scipy.io import wavfile"
   ]
  },
  {
   "cell_type": "markdown",
   "metadata": {},
   "source": [
    "# read the input file"
   ]
  },
  {
   "cell_type": "code",
   "execution_count": null,
   "metadata": {},
   "outputs": [],
   "source": [
    "sampleRate, data = wavfile.read('musics/conversation.wav')\n",
    "data = data[:,1] + data[:,0]"
   ]
  },
  {
   "cell_type": "markdown",
   "metadata": {},
   "source": [
    "# create output file"
   ]
  },
  {
   "cell_type": "code",
   "execution_count": 6,
   "metadata": {},
   "outputs": [],
   "source": [
    "#open output file\n",
    "waveout = wave.open('musics/3D_sound.wav', 'w')\n",
    "\n",
    "#set number of channels\n",
    "waveout.setnchannels(2)\n",
    "waveout.setsampwidth(2)\n",
    "\n",
    "#set sample rate\n",
    "waveout.setframerate(sampleRate)\n",
    "\n",
    "#write output file in a for loop\n",
    "for i in range(data.size):\n",
    "    \n",
    "    #set the value of data in right and left \n",
    "    if i <= 4.5 * sampleRate:\n",
    "        vl = data[i]\n",
    "        vr = 0\n",
    "    elif 4.5 * sampleRate < i <= 7.5 * sampleRate:\n",
    "        vl = data[i] * (i / sampleRate - 7.5) / (-3)\n",
    "        vr = data[i] * (i / sampleRate - 4.5) / 3\n",
    "    elif 7.5 * sampleRate < i <= 11 * sampleRate:\n",
    "        vl = 0\n",
    "        vr = data[i]\n",
    "    elif 11 * sampleRate < i <= 14 * sampleRate:\n",
    "        vl = 0\n",
    "        vr = data[i]\n",
    "    elif 14 * sampleRate < i <= 20 * sampleRate:\n",
    "        vl = 0\n",
    "        vr = data[i]\n",
    "    elif 20 * sampleRate < i <= 22 * sampleRate:\n",
    "        vl = data[i] * (i / sampleRate - 20) / (2)\n",
    "        vr = data[i] * (i / sampleRate - 22) / (-2)\n",
    "    elif 22 * sampleRate < i <= 24 * sampleRate:\n",
    "        vl = data[i]\n",
    "        vr = 0\n",
    "    elif 24 * sampleRate < i <= 29 * sampleRate:\n",
    "        vl = data[i] * (i / sampleRate - 29) / (-5)\n",
    "        vr = data[i] * (i / sampleRate - 24) / 5\n",
    "    elif 29 * sampleRate < i:\n",
    "        vl = 0\n",
    "        vr = data[i]\n",
    "    \n",
    "    #write data in the output file\n",
    "    new_data = struct.pack(\"<h\", int(vl))\n",
    "    waveout.writeframesraw(new_data)\n",
    "    \n",
    "    new_data = struct.pack(\"<h\", int(vr))\n",
    "    waveout.writeframesraw(new_data)\n",
    "\n",
    "#close the output file\n",
    "waveout.close()\n",
    "\n",
    "#playing output audio\n",
    "fs, output = wavfile.read('musics/3D_sound.wav')\n",
    "sd.play(output, fs)\n",
    "sd.wait()"
   ]
  }
 ],
 "metadata": {
  "kernelspec": {
   "display_name": "Python 3",
   "language": "python",
   "name": "python3"
  },
  "language_info": {
   "codemirror_mode": {
    "name": "ipython",
    "version": 3
   },
   "file_extension": ".py",
   "mimetype": "text/x-python",
   "name": "python",
   "nbconvert_exporter": "python",
   "pygments_lexer": "ipython3",
   "version": "3.8.5"
  }
 },
 "nbformat": 4,
 "nbformat_minor": 4
}

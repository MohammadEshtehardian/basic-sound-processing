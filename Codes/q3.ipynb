{
 "cells": [
  {
   "cell_type": "markdown",
   "metadata": {},
   "source": [
    "# import libraries"
   ]
  },
  {
   "cell_type": "code",
   "execution_count": 1,
   "metadata": {},
   "outputs": [],
   "source": [
    "from scipy.io import wavfile\n",
    "import numpy as np\n",
    "import sounddevice as sd"
   ]
  },
  {
   "cell_type": "markdown",
   "metadata": {},
   "source": [
    "# get n and t"
   ]
  },
  {
   "cell_type": "code",
   "execution_count": 6,
   "metadata": {},
   "outputs": [
    {
     "name": "stdout",
     "output_type": "stream",
     "text": [
      "2\n",
      "1\n"
     ]
    }
   ],
   "source": [
    "n = int(input())\n",
    "t = float(input())"
   ]
  },
  {
   "cell_type": "markdown",
   "metadata": {},
   "source": [
    "# put echo on file"
   ]
  },
  {
   "cell_type": "code",
   "execution_count": 7,
   "metadata": {},
   "outputs": [],
   "source": [
    "#read input file\n",
    "fs, data = wavfile.read('musics/echo_before.wav')\n",
    "data = data[:,0] + data[:,1]\n",
    "\n",
    "#frequency for damping the sound\n",
    "damp_freq = 10.0\n",
    "\n",
    "#create output file\n",
    "output_data = np.zeros(int(len(data) + n*t*fs))\n",
    "output_data[0: len(data)] = data.copy()\n",
    "\n",
    "\n",
    "for i in range(n):\n",
    "    new_data = np.array(data * np.exp(-damp_freq * i), dtype='int16')\n",
    "    x = output_data[int((i+1)*t*fs): int((i+1)*t*fs +len(data))]\n",
    "    output_data[int((i+1)*t*fs): int((i+1)*t*fs +len(data))] = (x + new_data)\n",
    "\n",
    "output_data = np.array(output_data, dtype='int16')\n",
    "\n",
    "wavfile.write('musics/echo_after.wav', fs, output_data)\n",
    "\n",
    "#play output file\n",
    "sd.play(output_data, fs)\n",
    "sd.wait()\n",
    "    "
   ]
  }
 ],
 "metadata": {
  "kernelspec": {
   "display_name": "Python 3",
   "language": "python",
   "name": "python3"
  },
  "language_info": {
   "codemirror_mode": {
    "name": "ipython",
    "version": 3
   },
   "file_extension": ".py",
   "mimetype": "text/x-python",
   "name": "python",
   "nbconvert_exporter": "python",
   "pygments_lexer": "ipython3",
   "version": "3.8.5"
  }
 },
 "nbformat": 4,
 "nbformat_minor": 4
}

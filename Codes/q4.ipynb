{
 "cells": [
  {
   "cell_type": "markdown",
   "metadata": {},
   "source": [
    "# Phaser Effect"
   ]
  },
  {
   "cell_type": "code",
   "execution_count": 4,
   "metadata": {},
   "outputs": [],
   "source": [
    "#importing libraries\n",
    "from scipy import signal\n",
    "import matplotlib.pyplot as plt\n",
    "from scipy.signal import butter, lfilter, freqz\n",
    "import numpy as np\n",
    "from scipy.io import wavfile\n",
    "import sounddevice as sd\n",
    "import pydub\n",
    "\n",
    "#define a function for allpass filter of order (M) with the feedback effect\n",
    "def allpass_filter_with_feedback(x, f, M):\n",
    "    N = np.zeros(M+1)\n",
    "    N[M] = 1\n",
    "    D = np.zeros(M+1)\n",
    "    D[0] = 1\n",
    "    D[M] = f\n",
    "    y = signal.lfilter(N, D, x)\n",
    "    return y\n",
    "\n",
    "#define a function for put phaser effect on a sound\n",
    "def phaser_effect(x, f, M):\n",
    "    x1 = 0.5 * x.copy()\n",
    "    x2 = allpass_filter_with_feedback(x1, f, M)\n",
    "    return x1 + x2\n",
    "    \n",
    "    \n",
    "#reading input file\n",
    "fs, data = wavfile.read('musics/phaser_before.wav')\n",
    "new_data = np.array(phaser_effect(data, 0.8, 10), dtype='int16')\n",
    "\n",
    "#playing sound after put phaser effect\n",
    "sd.play(new_data, fs)\n",
    "sd.wait()\n",
    "\n",
    "#saving new sound\n",
    "wavfile.write('musics/phaser_after.wav', fs, new_data)\n",
    "\n"
   ]
  },
  {
   "cell_type": "code",
   "execution_count": null,
   "metadata": {},
   "outputs": [],
   "source": []
  }
 ],
 "metadata": {
  "kernelspec": {
   "display_name": "Python 3",
   "language": "python",
   "name": "python3"
  },
  "language_info": {
   "codemirror_mode": {
    "name": "ipython",
    "version": 3
   },
   "file_extension": ".py",
   "mimetype": "text/x-python",
   "name": "python",
   "nbconvert_exporter": "python",
   "pygments_lexer": "ipython3",
   "version": "3.8.5"
  }
 },
 "nbformat": 4,
 "nbformat_minor": 4
}
